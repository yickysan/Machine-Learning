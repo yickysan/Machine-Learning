{
 "cells": [
  {
   "cell_type": "markdown",
   "id": "6cd4cfc1",
   "metadata": {},
   "source": [
    "# Predicting Stock Prices\n",
    "\n",
    "## Introduction:\n",
    "In this project we are going to be using data of stock prices from 1950 up to 2015 to train a model to predict stock prices. We are going to use different `scikit-learn` models and compare how they all perform.\n",
    "\n",
    "We are going to be performing the following tasks:\n",
    "1. Read the csv file into a pandas DataFrame.\n",
    "2. Convert the `Date` column into a datetime object.\n",
    "3. Sort the DataFrame by date in ascending order.\n",
    "4. Calculate the rolling mean for the past 30 days for each of the columns except the `Date` column.\n",
    "5. Use the `DataFrame.shift()` method to shift the rolling values by 1 day. This is because when calculating rolling mean, the value for that day is also included, so we have to shift it to prevent leaking data to the model.\n",
    "6. Make predictions using the rolling columns."
   ]
  },
  {
   "cell_type": "code",
   "execution_count": 1,
   "id": "e84d769f",
   "metadata": {},
   "outputs": [],
   "source": [
    "import pandas as pd\n",
    "from datetime import datetime\n",
    "from matplotlib import pyplot as plt\n",
    "from sklearn.linear_model import LinearRegression, Ridge\n",
    "from sklearn.ensemble import RandomForestRegressor\n",
    "from sklearn.metrics import mean_absolute_error"
   ]
  },
  {
   "cell_type": "markdown",
   "id": "19ca69a9",
   "metadata": {},
   "source": [
    "## Data Exploration"
   ]
  },
  {
   "cell_type": "code",
   "execution_count": 2,
   "id": "4d2640b8",
   "metadata": {},
   "outputs": [
    {
     "data": {
      "text/html": [
       "<div>\n",
       "<style scoped>\n",
       "    .dataframe tbody tr th:only-of-type {\n",
       "        vertical-align: middle;\n",
       "    }\n",
       "\n",
       "    .dataframe tbody tr th {\n",
       "        vertical-align: top;\n",
       "    }\n",
       "\n",
       "    .dataframe thead th {\n",
       "        text-align: right;\n",
       "    }\n",
       "</style>\n",
       "<table border=\"1\" class=\"dataframe\">\n",
       "  <thead>\n",
       "    <tr style=\"text-align: right;\">\n",
       "      <th></th>\n",
       "      <th>Date</th>\n",
       "      <th>Open</th>\n",
       "      <th>High</th>\n",
       "      <th>Low</th>\n",
       "      <th>Close</th>\n",
       "      <th>Volume</th>\n",
       "      <th>Adj Close</th>\n",
       "    </tr>\n",
       "  </thead>\n",
       "  <tbody>\n",
       "    <tr>\n",
       "      <th>0</th>\n",
       "      <td>2015-12-07</td>\n",
       "      <td>2090.419922</td>\n",
       "      <td>2090.419922</td>\n",
       "      <td>2066.780029</td>\n",
       "      <td>2077.070068</td>\n",
       "      <td>4.043820e+09</td>\n",
       "      <td>2077.070068</td>\n",
       "    </tr>\n",
       "    <tr>\n",
       "      <th>1</th>\n",
       "      <td>2015-12-04</td>\n",
       "      <td>2051.239990</td>\n",
       "      <td>2093.840088</td>\n",
       "      <td>2051.239990</td>\n",
       "      <td>2091.689941</td>\n",
       "      <td>4.214910e+09</td>\n",
       "      <td>2091.689941</td>\n",
       "    </tr>\n",
       "    <tr>\n",
       "      <th>2</th>\n",
       "      <td>2015-12-03</td>\n",
       "      <td>2080.709961</td>\n",
       "      <td>2085.000000</td>\n",
       "      <td>2042.349976</td>\n",
       "      <td>2049.620117</td>\n",
       "      <td>4.306490e+09</td>\n",
       "      <td>2049.620117</td>\n",
       "    </tr>\n",
       "    <tr>\n",
       "      <th>3</th>\n",
       "      <td>2015-12-02</td>\n",
       "      <td>2101.709961</td>\n",
       "      <td>2104.270020</td>\n",
       "      <td>2077.110107</td>\n",
       "      <td>2079.510010</td>\n",
       "      <td>3.950640e+09</td>\n",
       "      <td>2079.510010</td>\n",
       "    </tr>\n",
       "    <tr>\n",
       "      <th>4</th>\n",
       "      <td>2015-12-01</td>\n",
       "      <td>2082.929932</td>\n",
       "      <td>2103.370117</td>\n",
       "      <td>2082.929932</td>\n",
       "      <td>2102.629883</td>\n",
       "      <td>3.712120e+09</td>\n",
       "      <td>2102.629883</td>\n",
       "    </tr>\n",
       "  </tbody>\n",
       "</table>\n",
       "</div>"
      ],
      "text/plain": [
       "         Date         Open         High          Low        Close  \\\n",
       "0  2015-12-07  2090.419922  2090.419922  2066.780029  2077.070068   \n",
       "1  2015-12-04  2051.239990  2093.840088  2051.239990  2091.689941   \n",
       "2  2015-12-03  2080.709961  2085.000000  2042.349976  2049.620117   \n",
       "3  2015-12-02  2101.709961  2104.270020  2077.110107  2079.510010   \n",
       "4  2015-12-01  2082.929932  2103.370117  2082.929932  2102.629883   \n",
       "\n",
       "         Volume    Adj Close  \n",
       "0  4.043820e+09  2077.070068  \n",
       "1  4.214910e+09  2091.689941  \n",
       "2  4.306490e+09  2049.620117  \n",
       "3  3.950640e+09  2079.510010  \n",
       "4  3.712120e+09  2102.629883  "
      ]
     },
     "execution_count": 2,
     "metadata": {},
     "output_type": "execute_result"
    }
   ],
   "source": [
    "stocks = pd.read_csv('sphist.csv')\n",
    "stocks.head()"
   ]
  },
  {
   "cell_type": "code",
   "execution_count": 3,
   "id": "2e0ba33e",
   "metadata": {
    "scrolled": true
   },
   "outputs": [
    {
     "name": "stdout",
     "output_type": "stream",
     "text": [
      "<class 'pandas.core.frame.DataFrame'>\n",
      "RangeIndex: 16590 entries, 0 to 16589\n",
      "Data columns (total 7 columns):\n",
      " #   Column     Non-Null Count  Dtype  \n",
      "---  ------     --------------  -----  \n",
      " 0   Date       16590 non-null  object \n",
      " 1   Open       16590 non-null  float64\n",
      " 2   High       16590 non-null  float64\n",
      " 3   Low        16590 non-null  float64\n",
      " 4   Close      16590 non-null  float64\n",
      " 5   Volume     16590 non-null  float64\n",
      " 6   Adj Close  16590 non-null  float64\n",
      "dtypes: float64(6), object(1)\n",
      "memory usage: 907.4+ KB\n"
     ]
    }
   ],
   "source": [
    "stocks.info()"
   ]
  },
  {
   "cell_type": "markdown",
   "id": "2e253e17",
   "metadata": {},
   "source": [
    "There are no null columns in the dataset. To proceed, we are going to convert the `Date` column into a datetime object"
   ]
  },
  {
   "cell_type": "code",
   "execution_count": 4,
   "id": "54235ba4",
   "metadata": {
    "scrolled": true
   },
   "outputs": [
    {
     "name": "stdout",
     "output_type": "stream",
     "text": [
      "<class 'pandas.core.frame.DataFrame'>\n",
      "RangeIndex: 16590 entries, 0 to 16589\n",
      "Data columns (total 7 columns):\n",
      " #   Column     Non-Null Count  Dtype         \n",
      "---  ------     --------------  -----         \n",
      " 0   Date       16590 non-null  datetime64[ns]\n",
      " 1   Open       16590 non-null  float64       \n",
      " 2   High       16590 non-null  float64       \n",
      " 3   Low        16590 non-null  float64       \n",
      " 4   Close      16590 non-null  float64       \n",
      " 5   Volume     16590 non-null  float64       \n",
      " 6   Adj Close  16590 non-null  float64       \n",
      "dtypes: datetime64[ns](1), float64(6)\n",
      "memory usage: 907.4 KB\n"
     ]
    }
   ],
   "source": [
    "stocks['Date'] = pd.to_datetime(stocks['Date'])\n",
    "stocks.info()"
   ]
  },
  {
   "cell_type": "markdown",
   "id": "b2ee6998",
   "metadata": {},
   "source": [
    "## Data Cleaning"
   ]
  },
  {
   "cell_type": "code",
   "execution_count": 5,
   "id": "58867517",
   "metadata": {
    "scrolled": true
   },
   "outputs": [
    {
     "data": {
      "text/html": [
       "<div>\n",
       "<style scoped>\n",
       "    .dataframe tbody tr th:only-of-type {\n",
       "        vertical-align: middle;\n",
       "    }\n",
       "\n",
       "    .dataframe tbody tr th {\n",
       "        vertical-align: top;\n",
       "    }\n",
       "\n",
       "    .dataframe thead th {\n",
       "        text-align: right;\n",
       "    }\n",
       "</style>\n",
       "<table border=\"1\" class=\"dataframe\">\n",
       "  <thead>\n",
       "    <tr style=\"text-align: right;\">\n",
       "      <th></th>\n",
       "      <th>Date</th>\n",
       "      <th>Open</th>\n",
       "      <th>High</th>\n",
       "      <th>Low</th>\n",
       "      <th>Close</th>\n",
       "      <th>Volume</th>\n",
       "      <th>Adj Close</th>\n",
       "    </tr>\n",
       "  </thead>\n",
       "  <tbody>\n",
       "    <tr>\n",
       "      <th>0</th>\n",
       "      <td>1950-01-03</td>\n",
       "      <td>16.660000</td>\n",
       "      <td>16.660000</td>\n",
       "      <td>16.660000</td>\n",
       "      <td>16.660000</td>\n",
       "      <td>1260000.0</td>\n",
       "      <td>16.660000</td>\n",
       "    </tr>\n",
       "    <tr>\n",
       "      <th>1</th>\n",
       "      <td>1950-01-04</td>\n",
       "      <td>16.850000</td>\n",
       "      <td>16.850000</td>\n",
       "      <td>16.850000</td>\n",
       "      <td>16.850000</td>\n",
       "      <td>1890000.0</td>\n",
       "      <td>16.850000</td>\n",
       "    </tr>\n",
       "    <tr>\n",
       "      <th>2</th>\n",
       "      <td>1950-01-05</td>\n",
       "      <td>16.930000</td>\n",
       "      <td>16.930000</td>\n",
       "      <td>16.930000</td>\n",
       "      <td>16.930000</td>\n",
       "      <td>2550000.0</td>\n",
       "      <td>16.930000</td>\n",
       "    </tr>\n",
       "    <tr>\n",
       "      <th>3</th>\n",
       "      <td>1950-01-06</td>\n",
       "      <td>16.980000</td>\n",
       "      <td>16.980000</td>\n",
       "      <td>16.980000</td>\n",
       "      <td>16.980000</td>\n",
       "      <td>2010000.0</td>\n",
       "      <td>16.980000</td>\n",
       "    </tr>\n",
       "    <tr>\n",
       "      <th>4</th>\n",
       "      <td>1950-01-09</td>\n",
       "      <td>17.080000</td>\n",
       "      <td>17.080000</td>\n",
       "      <td>17.080000</td>\n",
       "      <td>17.080000</td>\n",
       "      <td>2520000.0</td>\n",
       "      <td>17.080000</td>\n",
       "    </tr>\n",
       "    <tr>\n",
       "      <th>5</th>\n",
       "      <td>1950-01-10</td>\n",
       "      <td>17.030001</td>\n",
       "      <td>17.030001</td>\n",
       "      <td>17.030001</td>\n",
       "      <td>17.030001</td>\n",
       "      <td>2160000.0</td>\n",
       "      <td>17.030001</td>\n",
       "    </tr>\n",
       "    <tr>\n",
       "      <th>6</th>\n",
       "      <td>1950-01-11</td>\n",
       "      <td>17.090000</td>\n",
       "      <td>17.090000</td>\n",
       "      <td>17.090000</td>\n",
       "      <td>17.090000</td>\n",
       "      <td>2630000.0</td>\n",
       "      <td>17.090000</td>\n",
       "    </tr>\n",
       "    <tr>\n",
       "      <th>7</th>\n",
       "      <td>1950-01-12</td>\n",
       "      <td>16.760000</td>\n",
       "      <td>16.760000</td>\n",
       "      <td>16.760000</td>\n",
       "      <td>16.760000</td>\n",
       "      <td>2970000.0</td>\n",
       "      <td>16.760000</td>\n",
       "    </tr>\n",
       "    <tr>\n",
       "      <th>8</th>\n",
       "      <td>1950-01-13</td>\n",
       "      <td>16.670000</td>\n",
       "      <td>16.670000</td>\n",
       "      <td>16.670000</td>\n",
       "      <td>16.670000</td>\n",
       "      <td>3330000.0</td>\n",
       "      <td>16.670000</td>\n",
       "    </tr>\n",
       "    <tr>\n",
       "      <th>9</th>\n",
       "      <td>1950-01-16</td>\n",
       "      <td>16.719999</td>\n",
       "      <td>16.719999</td>\n",
       "      <td>16.719999</td>\n",
       "      <td>16.719999</td>\n",
       "      <td>1460000.0</td>\n",
       "      <td>16.719999</td>\n",
       "    </tr>\n",
       "  </tbody>\n",
       "</table>\n",
       "</div>"
      ],
      "text/plain": [
       "        Date       Open       High        Low      Close     Volume  Adj Close\n",
       "0 1950-01-03  16.660000  16.660000  16.660000  16.660000  1260000.0  16.660000\n",
       "1 1950-01-04  16.850000  16.850000  16.850000  16.850000  1890000.0  16.850000\n",
       "2 1950-01-05  16.930000  16.930000  16.930000  16.930000  2550000.0  16.930000\n",
       "3 1950-01-06  16.980000  16.980000  16.980000  16.980000  2010000.0  16.980000\n",
       "4 1950-01-09  17.080000  17.080000  17.080000  17.080000  2520000.0  17.080000\n",
       "5 1950-01-10  17.030001  17.030001  17.030001  17.030001  2160000.0  17.030001\n",
       "6 1950-01-11  17.090000  17.090000  17.090000  17.090000  2630000.0  17.090000\n",
       "7 1950-01-12  16.760000  16.760000  16.760000  16.760000  2970000.0  16.760000\n",
       "8 1950-01-13  16.670000  16.670000  16.670000  16.670000  3330000.0  16.670000\n",
       "9 1950-01-16  16.719999  16.719999  16.719999  16.719999  1460000.0  16.719999"
      ]
     },
     "execution_count": 5,
     "metadata": {},
     "output_type": "execute_result"
    }
   ],
   "source": [
    "stocks.sort_values('Date', ascending=True, inplace=True)\n",
    "\n",
    "stocks = stocks.reset_index(drop=True)\n",
    "\n",
    "stocks.head(10)"
   ]
  },
  {
   "cell_type": "code",
   "execution_count": 6,
   "id": "919d9963",
   "metadata": {},
   "outputs": [],
   "source": [
    "stocks.columns = stocks.columns.str.lower()\n",
    "stocks.index = stocks[\"date\"]"
   ]
  },
  {
   "cell_type": "code",
   "execution_count": 7,
   "id": "6cfd91f6",
   "metadata": {},
   "outputs": [],
   "source": [
    "stocks = stocks.drop(\"date\", axis=1)"
   ]
  },
  {
   "cell_type": "markdown",
   "id": "c1cf321c",
   "metadata": {},
   "source": [
    "## Predicting Stock Prices\n",
    "\n",
    "To do this we are going to split the dataset into a test and training dataset. The train dataset will contain data up to 31st of December 2012 while the test dataset will contain data from  1st of January 2013 and above."
   ]
  },
  {
   "cell_type": "code",
   "execution_count": 8,
   "id": "985619d1",
   "metadata": {
    "scrolled": false
   },
   "outputs": [
    {
     "data": {
      "text/plain": [
       "Text(0.5, 1.0, 'Change In Stock Prices(1950 - 2015)')"
      ]
     },
     "execution_count": 8,
     "metadata": {},
     "output_type": "execute_result"
    },
    {
     "data": {
      "image/png": "[encoded data removed]",
      "text/plain": [
       "<Figure size 640x480 with 1 Axes>"
      ]
     },
     "metadata": {},
     "output_type": "display_data"
    }
   ],
   "source": [
    "stocks[\"close\"].plot()\n",
    "plt.title(\"Change In Stock Prices(1950 - 2015)\")"
   ]
  },
  {
   "cell_type": "code",
   "execution_count": 9,
   "id": "2bfa1b34",
   "metadata": {},
   "outputs": [
    {
     "data": {
      "text/plain": [
       "Index(['open', 'high', 'low', 'volume'], dtype='object')"
      ]
     },
     "execution_count": 9,
     "metadata": {},
     "output_type": "execute_result"
    }
   ],
   "source": [
    "predictors = stocks.columns.drop([\"close\", \"adj close\"])\n",
    "predictors"
   ]
  },
  {
   "cell_type": "code",
   "execution_count": 10,
   "id": "a4372bfd",
   "metadata": {},
   "outputs": [],
   "source": [
    "model = LinearRegression()"
   ]
  },
  {
   "cell_type": "code",
   "execution_count": 11,
   "id": "eba96e47",
   "metadata": {},
   "outputs": [],
   "source": [
    "#splitting the data\n",
    "train = stocks.loc[:datetime(2013, 1, 1)].copy()\n",
    "test = stocks.loc[datetime(2013, 1, 1):].copy()"
   ]
  },
  {
   "cell_type": "code",
   "execution_count": 12,
   "id": "42a4dd70",
   "metadata": {},
   "outputs": [],
   "source": [
    "def get_rmse(data, predictors, target, model):\n",
    "    \"\"\"Function to compute the mean squared error between predicted values and the actual values\"\"\"\n",
    "    train = data.loc[:datetime(2013, 1, 1)].copy()\n",
    "    test = data.loc[datetime(2013, 1, 1):].copy()\n",
    "    model.fit(train[predictors], train[target])\n",
    "    predictions = model.predict(test[predictors])\n",
    "    error = mean_absolute_error(test[target], predictions)\n",
    "    return error, predictions\n",
    "    "
   ]
  },
  {
   "cell_type": "code",
   "execution_count": 13,
   "id": "d97f6654",
   "metadata": {
    "scrolled": true
   },
   "outputs": [
    {
     "name": "stdout",
     "output_type": "stream",
     "text": [
      "open:10.360223098170767\n",
      "high:8.766658684677052\n",
      "low:7.943219094494724\n",
      "volume:748.5794971719075\n"
     ]
    }
   ],
   "source": [
    "#finding the best columns\n",
    "for column in predictors:\n",
    "    error, _ = get_rmse(data = stocks, predictors = [column], target = \"close\", model = model)\n",
    "    print(f\"{column}:{error}\")"
   ]
  },
  {
   "cell_type": "markdown",
   "id": "04cb8eae",
   "metadata": {},
   "source": [
    "When the model is fitted with each of the individual columns from our predictors, we can see, the volume column is not a good predictor for predicting the stock prices. It had a very huge rmse value and so going forward, we are going to rain the model with all the other columns except the volume column."
   ]
  },
  {
   "cell_type": "code",
   "execution_count": 14,
   "id": "9f7fc553",
   "metadata": {},
   "outputs": [
    {
     "data": {
      "text/plain": [
       "3.8395786670207315"
      ]
     },
     "execution_count": 14,
     "metadata": {},
     "output_type": "execute_result"
    }
   ],
   "source": [
    "predictors = predictors.drop(\"volume\")\n",
    "error, predictions = get_rmse(data = stocks, predictors = predictors, target = \"close\", model = model)\n",
    "error\n",
    "\n"
   ]
  },
  {
   "cell_type": "markdown",
   "id": "804bdce5",
   "metadata": {},
   "source": [
    "When we used all 3 predictors to make predictions on the prices, we reduced the rmse value considerably to 3.84. To improve on the model's performance, we are going to compute the rolling averages of the predictors for a 1 month window, a 3 months window, a 6 months window and a 1 year window."
   ]
  },
  {
   "cell_type": "markdown",
   "id": "f0d69e02",
   "metadata": {},
   "source": [
    "### Computing Rolling Averages\n",
    "Since the stock markets don't trade during the weekends, we know that on average there are 21 trading days in a month, 63 in a quarter, 126 in half a year and 252 in a year. We are going to be using these numbers to compute the rolling averages.\n",
    "\n",
    "When computing rolling averages, the value for the last day in the window is usually included and so to prevent leakage in our model, we are going to shift the values forward by one day using the `pandas.DataFrame.shift` method."
   ]
  },
  {
   "cell_type": "code",
   "execution_count": 15,
   "id": "f861065c",
   "metadata": {},
   "outputs": [],
   "source": [
    "def compute_rolling_window(data, window):\n",
    "    \"\"\"Function to compute the rolling averages of open, high and low columns\"\"\"\n",
    "    new_data = data.copy()\n",
    "    for column in new_data.columns.drop([\"close\", \"adj close\", \"volume\"]):\n",
    "        new_data[\"rolling_\" + column] = new_data[column].rolling(window).mean()\n",
    "    \n",
    "    rolling_columns = [col for col in new_data.columns if \"rolling\" in col]\n",
    "    new_data[rolling_columns] = new_data[rolling_columns].shift(1) # shifts the rolling averages forward by 1 day\n",
    "    new_data = new_data.dropna() # remove NA values caused by computing rolling average\n",
    "    \n",
    "    return new_data, rolling_columns\n",
    "    "
   ]
  },
  {
   "cell_type": "code",
   "execution_count": 16,
   "id": "f9487d29",
   "metadata": {
    "scrolled": false
   },
   "outputs": [
    {
     "data": {
      "text/html": [
       "<div>\n",
       "<style scoped>\n",
       "    .dataframe tbody tr th:only-of-type {\n",
       "        vertical-align: middle;\n",
       "    }\n",
       "\n",
       "    .dataframe tbody tr th {\n",
       "        vertical-align: top;\n",
       "    }\n",
       "\n",
       "    .dataframe thead th {\n",
       "        text-align: right;\n",
       "    }\n",
       "</style>\n",
       "<table border=\"1\" class=\"dataframe\">\n",
       "  <thead>\n",
       "    <tr style=\"text-align: right;\">\n",
       "      <th></th>\n",
       "      <th>open</th>\n",
       "      <th>high</th>\n",
       "      <th>low</th>\n",
       "      <th>close</th>\n",
       "      <th>volume</th>\n",
       "      <th>adj close</th>\n",
       "      <th>rolling_open</th>\n",
       "      <th>rolling_high</th>\n",
       "      <th>rolling_low</th>\n",
       "    </tr>\n",
       "    <tr>\n",
       "      <th>date</th>\n",
       "      <th></th>\n",
       "      <th></th>\n",
       "      <th></th>\n",
       "      <th></th>\n",
       "      <th></th>\n",
       "      <th></th>\n",
       "      <th></th>\n",
       "      <th></th>\n",
       "      <th></th>\n",
       "    </tr>\n",
       "  </thead>\n",
       "  <tbody>\n",
       "    <tr>\n",
       "      <th>1950-02-01</th>\n",
       "      <td>17.049999</td>\n",
       "      <td>17.049999</td>\n",
       "      <td>17.049999</td>\n",
       "      <td>17.049999</td>\n",
       "      <td>1.810000e+06</td>\n",
       "      <td>17.049999</td>\n",
       "      <td>16.875714</td>\n",
       "      <td>16.875714</td>\n",
       "      <td>16.875714</td>\n",
       "    </tr>\n",
       "    <tr>\n",
       "      <th>1950-02-02</th>\n",
       "      <td>17.230000</td>\n",
       "      <td>17.230000</td>\n",
       "      <td>17.230000</td>\n",
       "      <td>17.230000</td>\n",
       "      <td>2.040000e+06</td>\n",
       "      <td>17.230000</td>\n",
       "      <td>16.894286</td>\n",
       "      <td>16.894286</td>\n",
       "      <td>16.894286</td>\n",
       "    </tr>\n",
       "    <tr>\n",
       "      <th>1950-02-03</th>\n",
       "      <td>17.290001</td>\n",
       "      <td>17.290001</td>\n",
       "      <td>17.290001</td>\n",
       "      <td>17.290001</td>\n",
       "      <td>2.210000e+06</td>\n",
       "      <td>17.290001</td>\n",
       "      <td>16.912381</td>\n",
       "      <td>16.912381</td>\n",
       "      <td>16.912381</td>\n",
       "    </tr>\n",
       "    <tr>\n",
       "      <th>1950-02-06</th>\n",
       "      <td>17.320000</td>\n",
       "      <td>17.320000</td>\n",
       "      <td>17.320000</td>\n",
       "      <td>17.320000</td>\n",
       "      <td>1.490000e+06</td>\n",
       "      <td>17.320000</td>\n",
       "      <td>16.929524</td>\n",
       "      <td>16.929524</td>\n",
       "      <td>16.929524</td>\n",
       "    </tr>\n",
       "    <tr>\n",
       "      <th>1950-02-07</th>\n",
       "      <td>17.230000</td>\n",
       "      <td>17.230000</td>\n",
       "      <td>17.230000</td>\n",
       "      <td>17.230000</td>\n",
       "      <td>1.360000e+06</td>\n",
       "      <td>17.230000</td>\n",
       "      <td>16.945714</td>\n",
       "      <td>16.945714</td>\n",
       "      <td>16.945714</td>\n",
       "    </tr>\n",
       "    <tr>\n",
       "      <th>...</th>\n",
       "      <td>...</td>\n",
       "      <td>...</td>\n",
       "      <td>...</td>\n",
       "      <td>...</td>\n",
       "      <td>...</td>\n",
       "      <td>...</td>\n",
       "      <td>...</td>\n",
       "      <td>...</td>\n",
       "      <td>...</td>\n",
       "    </tr>\n",
       "    <tr>\n",
       "      <th>2015-12-01</th>\n",
       "      <td>2082.929932</td>\n",
       "      <td>2103.370117</td>\n",
       "      <td>2082.929932</td>\n",
       "      <td>2102.629883</td>\n",
       "      <td>3.712120e+09</td>\n",
       "      <td>2102.629883</td>\n",
       "      <td>2080.739037</td>\n",
       "      <td>2089.772874</td>\n",
       "      <td>2070.990473</td>\n",
       "    </tr>\n",
       "    <tr>\n",
       "      <th>2015-12-02</th>\n",
       "      <td>2101.709961</td>\n",
       "      <td>2104.270020</td>\n",
       "      <td>2077.110107</td>\n",
       "      <td>2079.510010</td>\n",
       "      <td>3.950640e+09</td>\n",
       "      <td>2079.510010</td>\n",
       "      <td>2080.402367</td>\n",
       "      <td>2090.203828</td>\n",
       "      <td>2071.161418</td>\n",
       "    </tr>\n",
       "    <tr>\n",
       "      <th>2015-12-03</th>\n",
       "      <td>2080.709961</td>\n",
       "      <td>2085.000000</td>\n",
       "      <td>2042.349976</td>\n",
       "      <td>2049.620117</td>\n",
       "      <td>4.306490e+09</td>\n",
       "      <td>2049.620117</td>\n",
       "      <td>2081.399984</td>\n",
       "      <td>2090.111927</td>\n",
       "      <td>2070.987613</td>\n",
       "    </tr>\n",
       "    <tr>\n",
       "      <th>2015-12-04</th>\n",
       "      <td>2051.239990</td>\n",
       "      <td>2093.840088</td>\n",
       "      <td>2051.239990</td>\n",
       "      <td>2091.689941</td>\n",
       "      <td>4.214910e+09</td>\n",
       "      <td>2091.689941</td>\n",
       "      <td>2080.356178</td>\n",
       "      <td>2088.612880</td>\n",
       "      <td>2068.360944</td>\n",
       "    </tr>\n",
       "    <tr>\n",
       "      <th>2015-12-07</th>\n",
       "      <td>2090.419922</td>\n",
       "      <td>2090.419922</td>\n",
       "      <td>2066.780029</td>\n",
       "      <td>2077.070068</td>\n",
       "      <td>4.043820e+09</td>\n",
       "      <td>2077.070068</td>\n",
       "      <td>2077.529506</td>\n",
       "      <td>2087.624785</td>\n",
       "      <td>2066.182850</td>\n",
       "    </tr>\n",
       "  </tbody>\n",
       "</table>\n",
       "<p>16569 rows × 9 columns</p>\n",
       "</div>"
      ],
      "text/plain": [
       "                   open         high          low        close        volume  \\\n",
       "date                                                                           \n",
       "1950-02-01    17.049999    17.049999    17.049999    17.049999  1.810000e+06   \n",
       "1950-02-02    17.230000    17.230000    17.230000    17.230000  2.040000e+06   \n",
       "1950-02-03    17.290001    17.290001    17.290001    17.290001  2.210000e+06   \n",
       "1950-02-06    17.320000    17.320000    17.320000    17.320000  1.490000e+06   \n",
       "1950-02-07    17.230000    17.230000    17.230000    17.230000  1.360000e+06   \n",
       "...                 ...          ...          ...          ...           ...   \n",
       "2015-12-01  2082.929932  2103.370117  2082.929932  2102.629883  3.712120e+09   \n",
       "2015-12-02  2101.709961  2104.270020  2077.110107  2079.510010  3.950640e+09   \n",
       "2015-12-03  2080.709961  2085.000000  2042.349976  2049.620117  4.306490e+09   \n",
       "2015-12-04  2051.239990  2093.840088  2051.239990  2091.689941  4.214910e+09   \n",
       "2015-12-07  2090.419922  2090.419922  2066.780029  2077.070068  4.043820e+09   \n",
       "\n",
       "              adj close  rolling_open  rolling_high  rolling_low  \n",
       "date                                                              \n",
       "1950-02-01    17.049999     16.875714     16.875714    16.875714  \n",
       "1950-02-02    17.230000     16.894286     16.894286    16.894286  \n",
       "1950-02-03    17.290001     16.912381     16.912381    16.912381  \n",
       "1950-02-06    17.320000     16.929524     16.929524    16.929524  \n",
       "1950-02-07    17.230000     16.945714     16.945714    16.945714  \n",
       "...                 ...           ...           ...          ...  \n",
       "2015-12-01  2102.629883   2080.739037   2089.772874  2070.990473  \n",
       "2015-12-02  2079.510010   2080.402367   2090.203828  2071.161418  \n",
       "2015-12-03  2049.620117   2081.399984   2090.111927  2070.987613  \n",
       "2015-12-04  2091.689941   2080.356178   2088.612880  2068.360944  \n",
       "2015-12-07  2077.070068   2077.529506   2087.624785  2066.182850  \n",
       "\n",
       "[16569 rows x 9 columns]"
      ]
     },
     "execution_count": 16,
     "metadata": {},
     "output_type": "execute_result"
    }
   ],
   "source": [
    "monthly_stocks, new_predictors = compute_rolling_window(stocks, 21)\n",
    "monthly_stocks"
   ]
  },
  {
   "cell_type": "code",
   "execution_count": 17,
   "id": "f1bdd1dd",
   "metadata": {},
   "outputs": [
    {
     "data": {
      "text/plain": [
       "21.163166801204596"
      ]
     },
     "execution_count": 17,
     "metadata": {},
     "output_type": "execute_result"
    }
   ],
   "source": [
    "monthly_error, _ = get_rmse(data = monthly_stocks, predictors = new_predictors, target = \"close\", model = model)\n",
    "monthly_error"
   ]
  },
  {
   "cell_type": "code",
   "execution_count": 18,
   "id": "13c26520",
   "metadata": {},
   "outputs": [
    {
     "data": {
      "text/plain": [
       "33.68234951000263"
      ]
     },
     "execution_count": 18,
     "metadata": {},
     "output_type": "execute_result"
    }
   ],
   "source": [
    "quarterly_stocks, _ = compute_rolling_window(stocks, 63)\n",
    "quarterly_error, _ = get_rmse(data = quarterly_stocks, predictors = new_predictors, target = \"close\", model = model)\n",
    "quarterly_error"
   ]
  },
  {
   "cell_type": "code",
   "execution_count": 19,
   "id": "2d658c00",
   "metadata": {},
   "outputs": [
    {
     "data": {
      "text/plain": [
       "40.036386135607586"
      ]
     },
     "execution_count": 19,
     "metadata": {},
     "output_type": "execute_result"
    }
   ],
   "source": [
    "halfyear_stocks, _ = compute_rolling_window(stocks, 126)\n",
    "halfyear_error, _ = get_rmse(data = halfyear_stocks, predictors = new_predictors, target = \"close\", model = model)\n",
    "halfyear_error"
   ]
  },
  {
   "cell_type": "code",
   "execution_count": 20,
   "id": "a5a66620",
   "metadata": {},
   "outputs": [
    {
     "data": {
      "text/plain": [
       "65.22998394376563"
      ]
     },
     "execution_count": 20,
     "metadata": {},
     "output_type": "execute_result"
    }
   ],
   "source": [
    "yearly_stocks, _ = compute_rolling_window(stocks, 252)\n",
    "yearly_error, _ = get_rmse(data = yearly_stocks, predictors = new_predictors, target = \"close\", model = model)\n",
    "yearly_error"
   ]
  },
  {
   "cell_type": "markdown",
   "id": "338b64f3",
   "metadata": {},
   "source": [
    "Computing the rolling averages did not seem to improve the model, rather, the model got worst as the rolling window increased. So we are going to stick with our original model where we didn't use the rolling averages."
   ]
  },
  {
   "cell_type": "code",
   "execution_count": 21,
   "id": "247e4c32",
   "metadata": {},
   "outputs": [
    {
     "data": {
      "text/html": [
       "<div>\n",
       "<style scoped>\n",
       "    .dataframe tbody tr th:only-of-type {\n",
       "        vertical-align: middle;\n",
       "    }\n",
       "\n",
       "    .dataframe tbody tr th {\n",
       "        vertical-align: top;\n",
       "    }\n",
       "\n",
       "    .dataframe thead th {\n",
       "        text-align: right;\n",
       "    }\n",
       "</style>\n",
       "<table border=\"1\" class=\"dataframe\">\n",
       "  <thead>\n",
       "    <tr style=\"text-align: right;\">\n",
       "      <th></th>\n",
       "      <th>open</th>\n",
       "      <th>high</th>\n",
       "      <th>low</th>\n",
       "      <th>close</th>\n",
       "      <th>volume</th>\n",
       "      <th>adj close</th>\n",
       "      <th>predictions</th>\n",
       "    </tr>\n",
       "    <tr>\n",
       "      <th>date</th>\n",
       "      <th></th>\n",
       "      <th></th>\n",
       "      <th></th>\n",
       "      <th></th>\n",
       "      <th></th>\n",
       "      <th></th>\n",
       "      <th></th>\n",
       "    </tr>\n",
       "  </thead>\n",
       "  <tbody>\n",
       "    <tr>\n",
       "      <th>2013-01-02</th>\n",
       "      <td>1426.189941</td>\n",
       "      <td>1462.430054</td>\n",
       "      <td>1426.189941</td>\n",
       "      <td>1462.420044</td>\n",
       "      <td>4.202600e+09</td>\n",
       "      <td>1462.420044</td>\n",
       "      <td>1458.562867</td>\n",
       "    </tr>\n",
       "    <tr>\n",
       "      <th>2013-01-03</th>\n",
       "      <td>1462.420044</td>\n",
       "      <td>1465.469971</td>\n",
       "      <td>1455.530029</td>\n",
       "      <td>1459.369995</td>\n",
       "      <td>3.829730e+09</td>\n",
       "      <td>1459.369995</td>\n",
       "      <td>1459.277962</td>\n",
       "    </tr>\n",
       "    <tr>\n",
       "      <th>2013-01-04</th>\n",
       "      <td>1459.369995</td>\n",
       "      <td>1467.939941</td>\n",
       "      <td>1458.989990</td>\n",
       "      <td>1466.469971</td>\n",
       "      <td>3.424290e+09</td>\n",
       "      <td>1466.469971</td>\n",
       "      <td>1466.283449</td>\n",
       "    </tr>\n",
       "    <tr>\n",
       "      <th>2013-01-07</th>\n",
       "      <td>1466.469971</td>\n",
       "      <td>1466.469971</td>\n",
       "      <td>1456.619995</td>\n",
       "      <td>1461.890015</td>\n",
       "      <td>3.304970e+09</td>\n",
       "      <td>1461.890015</td>\n",
       "      <td>1458.263854</td>\n",
       "    </tr>\n",
       "    <tr>\n",
       "      <th>2013-01-08</th>\n",
       "      <td>1461.890015</td>\n",
       "      <td>1461.890015</td>\n",
       "      <td>1451.640015</td>\n",
       "      <td>1457.150024</td>\n",
       "      <td>3.601600e+09</td>\n",
       "      <td>1457.150024</td>\n",
       "      <td>1453.376219</td>\n",
       "    </tr>\n",
       "    <tr>\n",
       "      <th>...</th>\n",
       "      <td>...</td>\n",
       "      <td>...</td>\n",
       "      <td>...</td>\n",
       "      <td>...</td>\n",
       "      <td>...</td>\n",
       "      <td>...</td>\n",
       "      <td>...</td>\n",
       "    </tr>\n",
       "    <tr>\n",
       "      <th>2015-12-01</th>\n",
       "      <td>2082.929932</td>\n",
       "      <td>2103.370117</td>\n",
       "      <td>2082.929932</td>\n",
       "      <td>2102.629883</td>\n",
       "      <td>3.712120e+09</td>\n",
       "      <td>2102.629883</td>\n",
       "      <td>2100.681581</td>\n",
       "    </tr>\n",
       "    <tr>\n",
       "      <th>2015-12-02</th>\n",
       "      <td>2101.709961</td>\n",
       "      <td>2104.270020</td>\n",
       "      <td>2077.110107</td>\n",
       "      <td>2079.510010</td>\n",
       "      <td>3.950640e+09</td>\n",
       "      <td>2079.510010</td>\n",
       "      <td>2084.168884</td>\n",
       "    </tr>\n",
       "    <tr>\n",
       "      <th>2015-12-03</th>\n",
       "      <td>2080.709961</td>\n",
       "      <td>2085.000000</td>\n",
       "      <td>2042.349976</td>\n",
       "      <td>2049.620117</td>\n",
       "      <td>4.306490e+09</td>\n",
       "      <td>2049.620117</td>\n",
       "      <td>2054.103941</td>\n",
       "    </tr>\n",
       "    <tr>\n",
       "      <th>2015-12-04</th>\n",
       "      <td>2051.239990</td>\n",
       "      <td>2093.840088</td>\n",
       "      <td>2051.239990</td>\n",
       "      <td>2091.689941</td>\n",
       "      <td>4.214910e+09</td>\n",
       "      <td>2091.689941</td>\n",
       "      <td>2089.147664</td>\n",
       "    </tr>\n",
       "    <tr>\n",
       "      <th>2015-12-07</th>\n",
       "      <td>2090.419922</td>\n",
       "      <td>2090.419922</td>\n",
       "      <td>2066.780029</td>\n",
       "      <td>2077.070068</td>\n",
       "      <td>4.043820e+09</td>\n",
       "      <td>2077.070068</td>\n",
       "      <td>2071.298878</td>\n",
       "    </tr>\n",
       "  </tbody>\n",
       "</table>\n",
       "<p>739 rows × 7 columns</p>\n",
       "</div>"
      ],
      "text/plain": [
       "                   open         high          low        close        volume  \\\n",
       "date                                                                           \n",
       "2013-01-02  1426.189941  1462.430054  1426.189941  1462.420044  4.202600e+09   \n",
       "2013-01-03  1462.420044  1465.469971  1455.530029  1459.369995  3.829730e+09   \n",
       "2013-01-04  1459.369995  1467.939941  1458.989990  1466.469971  3.424290e+09   \n",
       "2013-01-07  1466.469971  1466.469971  1456.619995  1461.890015  3.304970e+09   \n",
       "2013-01-08  1461.890015  1461.890015  1451.640015  1457.150024  3.601600e+09   \n",
       "...                 ...          ...          ...          ...           ...   \n",
       "2015-12-01  2082.929932  2103.370117  2082.929932  2102.629883  3.712120e+09   \n",
       "2015-12-02  2101.709961  2104.270020  2077.110107  2079.510010  3.950640e+09   \n",
       "2015-12-03  2080.709961  2085.000000  2042.349976  2049.620117  4.306490e+09   \n",
       "2015-12-04  2051.239990  2093.840088  2051.239990  2091.689941  4.214910e+09   \n",
       "2015-12-07  2090.419922  2090.419922  2066.780029  2077.070068  4.043820e+09   \n",
       "\n",
       "              adj close  predictions  \n",
       "date                                  \n",
       "2013-01-02  1462.420044  1458.562867  \n",
       "2013-01-03  1459.369995  1459.277962  \n",
       "2013-01-04  1466.469971  1466.283449  \n",
       "2013-01-07  1461.890015  1458.263854  \n",
       "2013-01-08  1457.150024  1453.376219  \n",
       "...                 ...          ...  \n",
       "2015-12-01  2102.629883  2100.681581  \n",
       "2015-12-02  2079.510010  2084.168884  \n",
       "2015-12-03  2049.620117  2054.103941  \n",
       "2015-12-04  2091.689941  2089.147664  \n",
       "2015-12-07  2077.070068  2071.298878  \n",
       "\n",
       "[739 rows x 7 columns]"
      ]
     },
     "execution_count": 21,
     "metadata": {},
     "output_type": "execute_result"
    }
   ],
   "source": [
    "test = stocks.loc[datetime(2013, 1, 1):].copy()\n",
    "test[\"predictions\"] = predictions\n",
    "test\n"
   ]
  },
  {
   "cell_type": "markdown",
   "id": "1c48b7fc",
   "metadata": {},
   "source": [
    "## Conclusion\n",
    "The goal of the project was to predict stock prices using a simple linear regression model. So far, we can learn the following from this project:\n",
    "\n",
    "* Computing the rolling averages didn't make the model perform better\n",
    "* The model got worse as the rolling window increased.\n",
    "\n",
    "While this project focused on predicting the absolute values of stock prices, another approach that can be taken is using a classifier model to predict whether stock prices for will either go up or go down."
   ]
  }
 ],
 "metadata": {
  "kernelspec": {
   "display_name": "Python 3 (ipykernel)",
   "language": "python",
   "name": "python3"
  },
  "language_info": {
   "codemirror_mode": {
    "name": "ipython",
    "version": 3
   },
   "file_extension": ".py",
   "mimetype": "text/x-python",
   "name": "python",
   "nbconvert_exporter": "python",
   "pygments_lexer": "ipython3",
   "version": "3.9.13"
  }
 },
 "nbformat": 4,
 "nbformat_minor": 5
}
